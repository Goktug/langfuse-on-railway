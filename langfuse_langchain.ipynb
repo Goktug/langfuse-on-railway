{
  "nbformat": 4,
  "nbformat_minor": 0,
  "metadata": {
    "colab": {
      "provenance": []
    },
    "kernelspec": {
      "name": "python3",
      "display_name": "Python 3"
    },
    "language_info": {
      "name": "python"
    }
  },
  "cells": [
    {
      "cell_type": "markdown",
      "source": [
        "## Langfuse integration with LangChain Callbacks"
      ],
      "metadata": {
        "id": "Br72O3SzwqP6"
      }
    },
    {
      "cell_type": "code",
      "execution_count": null,
      "metadata": {
        "id": "i_T-ExOlqVgf"
      },
      "outputs": [],
      "source": [
        "# Install dependencies\n",
        "%pip install langchain openai langfuse"
      ]
    },
    {
      "cell_type": "code",
      "source": [
        "# Configure required environment variables\n",
        "ENV_HOST = \"https://langfuse-production.up.railway.app\"\n",
        "ENV_SECRET_KEY = \"sk-lf-...\"\n",
        "ENV_PUBLIC_KEY = \"pk-lf-...\"\n",
        "OPENAI_API_KEY = \"sk-...\""
      ],
      "metadata": {
        "id": "lO4nxrHrreLy"
      },
      "execution_count": 3,
      "outputs": []
    },
    {
      "cell_type": "code",
      "source": [
        "# Integrate Langfuse with LangChain Callbacks\n",
        "from langchain.llms import OpenAI\n",
        "from langchain.prompts import PromptTemplate\n",
        "from langchain.chains import LLMChain\n",
        "from langfuse.callback import CallbackHandler\n",
        "\n",
        "template = \"\"\"You are a helpful assistant, who is good at general knowledge trivia. Answer the following question succintly.\n",
        "              Question: {question}\n",
        "              Answer:\"\"\"\n",
        "\n",
        "prompt = PromptTemplate(template=template, input_variables=['question'])\n",
        "question = \"Why is the sky blue?\"\n",
        "\n",
        "llm = OpenAI(openai_api_key=OPENAI_API_KEY)\n",
        "chain = LLMChain(llm=llm, prompt=prompt)\n",
        "handler = CallbackHandler(ENV_PUBLIC_KEY, ENV_SECRET_KEY, ENV_HOST)\n",
        "\n",
        "chain.run(question, callbacks=[handler])\n",
        "handler.langfuse.flush()"
      ],
      "metadata": {
        "id": "-9t0ezOTrgWI"
      },
      "execution_count": 8,
      "outputs": []
    }
  ]
}